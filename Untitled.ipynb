{
 "cells": [
  {
   "cell_type": "code",
   "execution_count": 1,
   "id": "4c9bfabf",
   "metadata": {},
   "outputs": [
    {
     "name": "stdout",
     "output_type": "stream",
     "text": [
      "Номер варіанту: 6\n"
     ]
    }
   ],
   "source": [
    "X = \"A\"  # Andrii\n",
    "\n",
    "N = ord(X) % 10 + 1\n",
    "\n",
    "print(f\"Номер варіанту: {N}\")"
   ]
  },
  {
   "cell_type": "markdown",
   "id": "d3b65451",
   "metadata": {},
   "source": [
    "# **Країна:** <span style=\"color: blue;\">Йорданія</span>\n",
    "\n",
    "### Площина\n",
    "**Площа:** *89,342 км²*\n",
    "\n",
    "### Населення\n",
    "**Населення:** *~11,3 млн осіб*\n",
    "\n",
    "---\n",
    "\n",
    "## Форма правління\n",
    "\n",
    "Йорданія є **конституційною монархією**.  \n",
    "Король Йорданії виконує функції глави держави, а уряд здійснює виконавчу владу.  \n",
    "\n",
    "Парламент складається з двох палат:  \n",
    "- *Сенат*  \n",
    "- *Палата представників*\n",
    "\n",
    "<p style=\"border: 2px solid red; padding: 5px;\">Йорданія є членом Ліги арабських держав (LAS).</p>\n",
    "\n",
    "\n",
    "---\n",
    "\n",
    "## Видатні персоналії\n",
    "\n",
    "![Зображення Хусейн бін Талал](https://upload.wikimedia.org/wikipedia/commons/0/06/Hussein_of_Jordan_1997.jpg)\n",
    "\n",
    "### <span style=\"color: blue;\">Хусейн бін Талал</span>\n",
    "- Король Йорданії з 1952 по 1999 рік.  \n",
    "- Відомий своїми зусиллями зі збереження миру на Близькому Сході.  \n",
    "\n",
    "![Зображення Абдалла II](https://upload.wikimedia.org/wikipedia/commons/d/d9/King_Abdullah_II_%28cropped%29.jpg)\n",
    "\n",
    "### <span style=\"color: blue;\">Абдалла II</span>\n",
    "- Нинішній король Йорданії (з 1999 року).  \n",
    "- Активно працює над реформами у країні.  \n",
    "\n",
    "---\n",
    "\n",
    "## Пам’ятки\n",
    "\n",
    "### Природні:\n",
    "\n",
    "![Example Image](jordan-dead-sea-big.jpg)\n",
    "<span style=\"color: blue;\">Мертве море</span> \n",
    "  Унікальне солоне озеро, розташоване на кордоні Йорданії та Ізраїлю.  \n",
    "  \n",
    "  ![Waid Rum](Wadi-Rum-1003.jpg)\n",
    "- <span style=\"color: blue;\">Ваді-Рам</span>  \n",
    "  Пустеля з незвичайними скельними утвореннями та чарівними краєвидами.  \n",
    "\n",
    "### Культурні:\n",
    "\n",
    "![Example Image](petra.jpg)\n",
    "- <span style=\"color: blue;\">Петра</span> \n",
    "  Стародавнє місто, висічене у скелях.  \n",
    "  Одна з нових семи чудес світу.\n",
    "\n",
    "---\n",
    "\n",
    "## Цікава інформація\n",
    "\n",
    "| **Категорія**      | **Значення**                           | **Додаткова інформація**                             |\n",
    "|--------------------|---------------------------------------|-----------------------------------------------------|\n",
    "| **Офіційна назва** | Хашимітське Королівство Йорданія       | Часто називають просто Йорданією.                   |\n",
    "| **Столиця**        | Амман                                  | Найбільше місто країни, важливий культурний центр.  |\n",
    "| **Офіційна мова**  | Арабська                              | Використовується також англійська.                 |\n",
    "| **Валюта**         | Йорданський динар (JOD)               | 1 JOD ≈ 1.41 USD                                   |\n",
    "| **Основні релігії**| Іслам (переважно суніти)               | Християни становлять меншість.                     |\n",
    "\n",
    "---\n",
    "\n",
    "## Прапор Йорданії"
   ]
  },
  {
   "cell_type": "code",
   "execution_count": 2,
   "id": "5bf16abe",
   "metadata": {},
   "outputs": [
    {
     "data": {
      "text/html": [
       "<svg xmlns=\"http://www.w3.org/2000/svg\" width=\"1200\" height=\"600\" viewBox=\"0 0 10080 5040\">\n",
       " <title>Flag of Jordan</title>\n",
       " <path fill=\"#fff\" d=\"m0 0h10080v5040H0z\"/>\n",
       " <path d=\"m0 0h10080v1680H0z\"/>\n",
       " <path fill=\"#007a3d\" d=\"m0 3360h10080v1680H0z\"/>\n",
       " <path fill=\"#ce1126\" d=\"m5040 2520L0 5040V0m1557 2160-78 198-203-62 106 184-176 120 211 32-16 212 156-144 157 144-16-212 210-32-175-120 106-184-203 62z\"/>\n",
       "</svg>\n"
      ],
      "text/plain": [
       "<IPython.core.display.HTML object>"
      ]
     },
     "metadata": {},
     "output_type": "display_data"
    }
   ],
   "source": [
    "%%HTML\n",
    "<svg xmlns=\"http://www.w3.org/2000/svg\" width=\"1200\" height=\"600\" viewBox=\"0 0 10080 5040\">\n",
    " <title>Flag of Jordan</title>\n",
    " <path fill=\"#fff\" d=\"m0 0h10080v5040H0z\"/>\n",
    " <path d=\"m0 0h10080v1680H0z\"/>\n",
    " <path fill=\"#007a3d\" d=\"m0 3360h10080v1680H0z\"/>\n",
    " <path fill=\"#ce1126\" d=\"m5040 2520L0 5040V0m1557 2160-78 198-203-62 106 184-176 120 211 32-16 212 156-144 157 144-16-212 210-32-175-120 106-184-203 62z\"/>\n",
    "</svg>"
   ]
  },
  {
   "cell_type": "code",
   "execution_count": 3,
   "id": "bdea43a9",
   "metadata": {},
   "outputs": [],
   "source": [
    "def is_prime(n):\n",
    "    if n <= 1:\n",
    "        return False\n",
    "    for i in range(2, int(n ** 0.5) + 1):\n",
    "        if n % i == 0:\n",
    "            return False\n",
    "    return True\n",
    "\n",
    "def task_6(a, b):\n",
    "    try:\n",
    "        # Перевірка, чи є введені значення цілими числами\n",
    "        a = int(a)\n",
    "        b = int(b)\n",
    "        \n",
    "        if a > b:\n",
    "            print(\"Помилка: a повинно бути менше або дорівнювати b.\")\n",
    "            return []\n",
    "        \n",
    "        primes = []\n",
    "        for num in range(a, b + 1):\n",
    "            if is_prime(num):\n",
    "                primes.append(num)\n",
    "        return primes\n",
    "    except ValueError:\n",
    "        print(\"Помилка: введено не число!\")\n",
    "        return []\n"
   ]
  },
  {
   "cell_type": "code",
   "execution_count": 4,
   "id": "3174f41c",
   "metadata": {},
   "outputs": [
    {
     "name": "stdout",
     "output_type": "stream",
     "text": [
      "Тестові дані: 3, 5\n",
      "Очікуваний резульатта : [3, 5, 7, 11, 13]\n",
      "Результат обчислення: [3, 5, 7, 11, 13]\n"
     ]
    }
   ],
   "source": [
    "print(f\"Тестові дані: 3, 5\")\n",
    "print(f\"Очікуваний резульатта : [3, 5, 7, 11, 13]\")\n",
    "print(f\"Результат обчислення: {task_6(3, 15)}\")"
   ]
  },
  {
   "cell_type": "code",
   "execution_count": 5,
   "id": "fa0bbb33",
   "metadata": {},
   "outputs": [
    {
     "name": "stdout",
     "output_type": "stream",
     "text": [
      "Тестові дані: 6, 24\n",
      "Очікуваний резульатта : [7, 11, 13, 17, 19, 23]\n",
      "Результат обчислення: [7, 11, 13, 17, 19, 23]\n"
     ]
    }
   ],
   "source": [
    "print(f\"Тестові дані: 6, 24\")\n",
    "print(f\"Очікуваний резульатта : [7, 11, 13, 17, 19, 23]\")\n",
    "print(f\"Результат обчислення: {task_6(6, 24)}\")"
   ]
  },
  {
   "cell_type": "code",
   "execution_count": 6,
   "id": "f149f1dc",
   "metadata": {},
   "outputs": [
    {
     "name": "stdout",
     "output_type": "stream",
     "text": [
      "Тестові дані: в, 5\n",
      "Очікуваний резульатта : Помилка\n",
      "Помилка: введено не число!\n",
      "Результат обчислення: []\n"
     ]
    }
   ],
   "source": [
    "print(f\"Тестові дані: в, 5\")\n",
    "print(f\"Очікуваний резульатта : Помилка\")\n",
    "print(f\"Результат обчислення: {task_6('в', 15)}\")"
   ]
  },
  {
   "cell_type": "code",
   "execution_count": null,
   "id": "211a925c",
   "metadata": {},
   "outputs": [],
   "source": []
  }
 ],
 "metadata": {
  "kernelspec": {
   "display_name": "Python 3 (ipykernel)",
   "language": "python",
   "name": "python3"
  },
  "language_info": {
   "codemirror_mode": {
    "name": "ipython",
    "version": 3
   },
   "file_extension": ".py",
   "mimetype": "text/x-python",
   "name": "python",
   "nbconvert_exporter": "python",
   "pygments_lexer": "ipython3",
   "version": "3.7.1"
  }
 },
 "nbformat": 4,
 "nbformat_minor": 5
}
